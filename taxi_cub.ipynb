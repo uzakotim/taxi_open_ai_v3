{
 "cells": [
  {
   "cell_type": "code",
   "execution_count": null,
   "id": "e9a246c6-e8c1-400a-86e4-82b968aa2bee",
   "metadata": {},
   "outputs": [],
   "source": []
  },
  {
   "cell_type": "code",
   "execution_count": null,
   "id": "1ae7f777-88a1-49df-8c2a-397619111d45",
   "metadata": {},
   "outputs": [],
   "source": [
    "import gym\n",
    "import time\n",
    "env = gym.make('Taxi-v3',render_mode='human')\n",
    "observation = env.reset()\n",
    "count = 0\n",
    "reward = 0\n",
    "while reward != 20:\n",
    "    action = env.action_space.sample()\n",
    "    observation, reward, done, info, extra_value = env.step(action)\n",
    "    count += 1\n",
    "    print(action)"
   ]
  }
 ],
 "metadata": {
  "kernelspec": {
   "display_name": "Python 3 (ipykernel)",
   "language": "python",
   "name": "python3"
  },
  "language_info": {
   "codemirror_mode": {
    "name": "ipython",
    "version": 3
   },
   "file_extension": ".py",
   "mimetype": "text/x-python",
   "name": "python",
   "nbconvert_exporter": "python",
   "pygments_lexer": "ipython3",
   "version": "3.8.10"
  }
 },
 "nbformat": 4,
 "nbformat_minor": 5
}
